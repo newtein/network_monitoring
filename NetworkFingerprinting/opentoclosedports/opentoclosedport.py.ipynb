{
 "cells": [
  {
   "cell_type": "code",
   "execution_count": 10,
   "metadata": {},
   "outputs": [
    {
     "name": "stdout",
     "output_type": "stream",
     "text": [
      "Datapoints\n",
      "\n",
      "MacAddress        :  Frequency\n",
      "\n",
      "A0:D3:7A:88:CD:4F :  25\n",
      "00:08:22:44:C6:EA :  23\n",
      "64:27:37:A1:53:4F :  21\n",
      "B8:08:D7:00:99:6D :  19\n",
      "F4:5C:89:CA:AC:95 :  14\n",
      "34:23:87:2D:90:DD :  11\n",
      "BC:85:56:B4:E1:DD :  11\n",
      "34:DE:1A:3C:67:11 :  11\n",
      "60:6D:C7:29:F6:F1 :  9\n",
      "10:08:B1:64:D1:6F :  9\n",
      "54:27:1E:17:32:65 :  8\n",
      "64:5A:04:6B:FC:23 :  8\n",
      "BC:77:37:81:52:C2 :  7\n",
      "74:29:AF:F7:52:DF :  7\n",
      "30:10:B3:BA:B6:E5 :  6\n",
      "48:5A:B6:C9:32:FD :  5\n",
      "E4:02:9B:4A:9A:39 :  4\n",
      "40:F0:2F:1F:69:FA :  4\n",
      "C0:38:96:80:52:A9 :  4\n",
      "14:2D:27:D0:D4:9F :  4\n",
      "5C:99:60:FF:D8:1F :  4\n",
      "18:D6:C7:1C:39:17 :  4\n",
      "D0:7E:35:AD:72:8F :  4\n",
      "C4:85:08:D2:FB:A9 :  4\n",
      "74:DF:BF:5B:2A:59 :  3\n",
      "E4:F8:9C:13:4F:B6 :  3\n",
      "A0:D3:7A:8A:42:01 :  3\n",
      "2C:D0:5A:DD:16:AA :  3\n",
      "14:2D:27:A6:2C:AB :  3\n",
      "00:1E:64:EE:9E:8B :  2\n",
      "74:29:AF:F8:0D:5F :  2\n",
      "A4:DB:30:DF:8F:8E :  2\n",
      "BC:85:56:13:A7:11 :  2\n",
      "60:6D:C7:A0:7E:C3 :  2\n",
      "F0:7B:CB:88:36:83 :  2\n",
      "80:56:F2:2A:9D:03 :  2\n",
      "90:48:9A:2D:F1:93 :  2\n",
      "40:F0:2F:D3:81:31 :  2\n",
      "CC:2F:71:03:7D:89 :  2\n",
      "E4:9A:79:D1:63:4A :  2\n",
      "C8:FF:28:7E:88:1E :  2\n",
      "3C:77:E6:DB:05:57 :  1\n",
      "4C:BB:58:32:24:B1 :  1\n",
      "20:A2:E4:4E:D9:3A :  1\n",
      "08:D4:0C:F6:CD:4F :  1\n",
      "34:AB:37:6B:BA:28 :  1\n",
      "B4:6D:83:A8:E4:18 :  1\n",
      "28:C2:DD:A8:4C:15 :  1\n",
      "B8:81:98:E0:90:1B :  1\n",
      "CC:B0:DA:46:6D:F1 :  1\n",
      "58:00:E3:8A:4F:2F :  1\n",
      "48:D2:24:40:B6:CB :  1\n",
      "48:E2:44:D0:4C:79 :  1\n",
      "38:B1:DB:44:4E:8B :  1\n",
      "E4:F8:9C:41:B8:E7 :  1\n",
      "48:E2:44:BD:AF:FD :  1\n"
     ]
    }
   ],
   "source": [
    "import matplotlib.pyplot as plt\n",
    "f=open(\"set_data2.csv\",\"r\")\n",
    "next(f)\n",
    "next(f)\n",
    "mac={}\n",
    "for l in f:\n",
    "    row=l.split(\",\")\n",
    "    if row[0] not in mac:\n",
    "        mac[row[0]]=1\n",
    "    else:\n",
    "        mac[row[0]]+=1\n",
    "f.close()\n",
    "print(\"Datapoints\\n\")\n",
    "print(\"MacAddress        :  Frequency\\n\")\n",
    "for items in sorted(mac, key=mac.get, reverse=True):\n",
    "    print(items,\": \",mac[items])"
   ]
  },
  {
   "cell_type": "code",
   "execution_count": 14,
   "metadata": {},
   "outputs": [
    {
     "name": "stdout",
     "output_type": "stream",
     "text": [
      "64:27:37:A1:53:4F 1.625\n",
      "74:29:AF:F7:52:DF 1.3333333333333333\n"
     ]
    }
   ],
   "source": [
    "f=open(\"set_data2.csv\",\"r\")\n",
    "next(f)\n",
    "next(f)\n",
    "ratio={}\n",
    "c=0\n",
    "cclosed=0\n",
    "copen=0\n",
    "for l in f:\n",
    "    row=l.split(\",\")\n",
    "    c=c+1\n",
    "    if(c<mac[row[0]]):\n",
    "        if(row[3]==\"open\"):\n",
    "            copen=copen+1\n",
    "        if(row[3]==\"closed\"):\n",
    "            cclosed=cclosed+1\n",
    "    elif(c==mac[row[0]]):\n",
    "        if(row[3]==\"open\"):\n",
    "            copen=copen+1\n",
    "        if(row[3]==\"closed\"):\n",
    "            cclosed=cclosed+1\n",
    "        if( cclosed==0 or (cclosed==0 and copen==0)):\n",
    "            ratio[row[0]]=None\n",
    "        else:\n",
    "            ratio[row[0]]=copen/cclosed\n",
    "        copen=0\n",
    "        cclosed=0\n",
    "        c=0\n",
    "f.close()\n",
    "#print(ratio)\n",
    "\n",
    "         \n",
    "for macs in ratio:\n",
    "    if ratio[macs]!=None and ratio[macs]!=0.0:\n",
    "        print(macs, ratio[macs])   "
   ]
  },
  {
   "cell_type": "code",
   "execution_count": null,
   "metadata": {
    "collapsed": true
   },
   "outputs": [],
   "source": []
  }
 ],
 "metadata": {
  "kernelspec": {
   "display_name": "Python 3",
   "language": "python",
   "name": "python3"
  },
  "language_info": {
   "codemirror_mode": {
    "name": "ipython",
    "version": 3
   },
   "file_extension": ".py",
   "mimetype": "text/x-python",
   "name": "python",
   "nbconvert_exporter": "python",
   "pygments_lexer": "ipython3",
   "version": "3.6.2"
  }
 },
 "nbformat": 4,
 "nbformat_minor": 2
}
