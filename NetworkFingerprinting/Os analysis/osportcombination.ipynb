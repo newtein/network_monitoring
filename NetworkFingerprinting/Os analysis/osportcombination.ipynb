{
 "cells": [
  {
   "cell_type": "code",
   "execution_count": 3,
   "metadata": {},
   "outputs": [
    {
     "name": "stdout",
     "output_type": "stream",
     "text": [
      "OrderedDict([('62078_tcp_open_4_tcp_closed_33024_udp_closed_\\n', [1, [100.0]]), ('8007_tcp_open_1_tcp_closed_34263_udp_closed_\\n', [1, [100.0]]), ('80_tcp_open_25_tcp_closed_\\n', [2, [100.0, 100.0]]), ('135_tcp_open_25_tcp_closed_\\n', [2, [100.0, 100.0]]), ('80_tcp_open_1_tcp_closed_36647_udp_closed_\\n', [1, [100.0]]), ('80_tcp_open_1_tcp_closed_31506_udp_closed_', [1, [100.0]])])\n"
     ]
    }
   ],
   "source": [
    "import matplotlib.pyplot as plt\n",
    "from collections import OrderedDict\n",
    "f=open(\"set_data3.csv\",\"r\")\n",
    "next(f)\n",
    "next(f)\n",
    "os=OrderedDict()\n",
    "for l in f:\n",
    "    row=l.split(\",\")\n",
    "    if str(row[7]) not in os :\n",
    "        os[str(row[7])]=[1,[]]\n",
    "        os[str(row[7])][1].append(float(row[2]))\n",
    "    else:\n",
    "        os[str(row[7])][0]+=1\n",
    "        os[str(row[7])][1].append(float(row[2]))\n",
    "#services=sorted(services.items(), key=operator.itemgetter(0))    \n",
    "f.close()\n",
    "print(os)"
   ]
  },
  {
   "cell_type": "code",
   "execution_count": 5,
   "metadata": {},
   "outputs": [
    {
     "name": "stdout",
     "output_type": "stream",
     "text": [
      "OrderedDict([('62078_tcp_open_4_tcp_closed_33024_udp_closed_\\n', [1, 100.0]), ('8007_tcp_open_1_tcp_closed_34263_udp_closed_\\n', [1, 100.0]), ('80_tcp_open_25_tcp_closed_\\n', [2, 100.0]), ('135_tcp_open_25_tcp_closed_\\n', [2, 100.0]), ('80_tcp_open_1_tcp_closed_36647_udp_closed_\\n', [1, 100.0]), ('80_tcp_open_1_tcp_closed_31506_udp_closed_', [1, 100.0])])\n"
     ]
    }
   ],
   "source": [
    "import numpy as np\n",
    "for s in os:\n",
    "    os[s][1]=np.mean(os[s][1])\n",
    "print(os)"
   ]
  },
  {
   "cell_type": "code",
   "execution_count": 7,
   "metadata": {},
   "outputs": [
    {
     "name": "stdout",
     "output_type": "stream",
     "text": [
      "[100.0, 100.0, 100.0, 100.0, 100.0, 100.0]\n"
     ]
    }
   ],
   "source": [
    "accuracy=[os[i][1] for i in os]\n",
    "print(accuracy)"
   ]
  },
  {
   "cell_type": "code",
   "execution_count": null,
   "metadata": {
    "collapsed": true
   },
   "outputs": [],
   "source": [
    "# Conclusion\n",
    "# Port - Service -Open/Close Combination that yeild accuracy\n",
    "# 80_tcp_open 25_tcp_closed\n",
    "# 135_tcp_open 25_tcp_closed\n",
    "# etc"
   ]
  }
 ],
 "metadata": {
  "kernelspec": {
   "display_name": "Python 3",
   "language": "python",
   "name": "python3"
  },
  "language_info": {
   "codemirror_mode": {
    "name": "ipython",
    "version": 3
   },
   "file_extension": ".py",
   "mimetype": "text/x-python",
   "name": "python",
   "nbconvert_exporter": "python",
   "pygments_lexer": "ipython3",
   "version": "3.6.2"
  }
 },
 "nbformat": 4,
 "nbformat_minor": 2
}
