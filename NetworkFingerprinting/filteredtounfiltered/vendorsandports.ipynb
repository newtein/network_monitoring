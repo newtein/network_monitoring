{
 "cells": [
  {
   "cell_type": "code",
   "execution_count": 7,
   "metadata": {},
   "outputs": [
    {
     "name": "stdout",
     "output_type": "stream",
     "text": [
      "{'InPro Comm\\n': 1, 'Intel Corporate\\n': 9, 'Hon Hai Precision Ind.\\n': 18, 'null\\n': 16, 'Apple\\n': 2, 'AzureWave Technology\\n': 3, 'Liteon Technology\\n': 10, 'Sony Mobile Communications AB\\n': 1, 'Chicony Electronics\\n': 2, 'Motorola Mobility': 3, 'OnePlus Tech (Shenzhen)\\n': 1, 'LG Electronics\\n': 1, 'LG Electronics': 1}\n"
     ]
    }
   ],
   "source": [
    "import matplotlib.pyplot as plt\n",
    "f=open(\"set_data.csv\",\"r\")\n",
    "next(f)\n",
    "next(f)\n",
    "vendors={}\n",
    "for l in f:\n",
    "    row=l.split(\",\")\n",
    "    if row[6] not in vendors:\n",
    "        vendors[row[6]]=1\n",
    "    else:\n",
    "        vendors[row[6]]+=1\n",
    "f.close()\n",
    "print(vendors)"
   ]
  },
  {
   "cell_type": "code",
   "execution_count": 9,
   "metadata": {},
   "outputs": [
    {
     "name": "stdout",
     "output_type": "stream",
     "text": [
      "{'compressnet': 1, 'finger': 1, 'icad-el': 1, 'asipregistry': 1, 'unknown': 17, 'asprovatalk': 1, 'rmiactivation': 1, 'dmidi': 1, 'writesrv': 1, 'glogger': 1, 'dlsrpn': 1, 'lanrevserver': 1, 'mapper-ws_ethd': 1, 'nrpe': 1, 'cm': 1, 'asterix': 1, 'git': 1, 'iiimsf': 1, 'http': 16, 'tcpwrapped': 95, 'upnp': 3, 'microsoft-ds': 5, 'ajp12': 1, 'hadoop-namenode': 1, 'ajp13': 1, 'dnp': 1, 'smtp': 3, 'pop3': 3, 'msrpc': 11, 'netbios-ssn': 4, 'mysql': 2, 'postgresql': 2, 'ftp': 1, 'ssh': 1, 'telnet': 1, 'domain': 1, 'rpcbind': 1, 'ident': 1, 'imap': 1, 'smux': 1, 'fw1-secureremote': 1, 'https': 1, 'submission': 1, 'imaps': 1, 'NFS-or-IIS': 1, 'h323q931': 1, 'pptp': 1, 'vnc': 1, 'http-proxy': 1, 'sun-answerbook': 1, 'rsh-spx': 1, 'onmux': 1, 'exec': 1, 'startron': 1, 'syscomlan': 1, 'dproxy': 1, 'dls-monitor': 1, 'xmpp-bosh': 1, 'dpm': 1, 'scriptview': 1, 'blp3': 1, 'pichat': 1, 'jetdirect': 1, 'caerpc': 1, 'dnsix': 1, 'pop3pw': 1, 'dc': 1, 'ekshell': 1, 'rootd': 1, 'netview-aix-6': 1, 'sdfunc': 1, 'kx': 1, 'listcrt-port-2': 1, 'n1-fwp': 1, 'vnc-http-1': 1, 'https-alt': 1, 'pds': 1}\n",
      "{'3': 1, '79': 1, '425': 1, '687': 1, '1011': 1, '1079': 1, '1098': 1, '1199': 1, '1334': 1, '2033': 1, '2065': 1, '3546': 1, '3971': 1, '3986': 1, '5666': 1, '5815': 1, '5910': 1, '8291': 1, '8600': 1, '9220': 1, '9418': 1, '9666': 1, '50002': 1, '5357': 21, '80': 9, '139': 22, '445': 22, '49160': 1, '135': 20, '8080': 4, '62078': 3, '49152': 5, '2869': 1, '49153': 2, '49154': 2, '49155': 3, '49156': 2, '49157': 2, '22': 4, '8007': 1, '8008': 1, '8009': 1, '20000': 1, '554': 2, '25': 3, '110': 3, '443': 2, '3306': 3, '5432': 2, '8000': 1, '49158': 1, '49159': 1, '49176': 1, '65000': 1, '1688': 3, '21': 1, '23': 1, '53': 1, '111': 1, '113': 1, '143': 1, '199': 1, '256': 1, '587': 1, '993': 1, '1025': 1, '1720': 1, '1723': 1, '5900': 3, '8888': 1, '222': 1, '417': 1, '512': 1, '1057': 1, '1065': 1, '1296': 1, '2048': 1, '5280': 1, '5718': 1, '7741': 1, '8292': 1, '9009': 1, '9103': 1, '10024': 1, '42510': 1, '50636': 1, '90': 1, '106': 1, '2001': 1, '5800': 1, '9999': 1, '6646': 2, '4': 1, '545': 1, '1094': 1, '1666': 1, '2046': 1, '2111': 1, '3914': 1, '4446': 1, '5801': 1, '8443': 1, '9595': 1, '10566': 1, '19780': 1, '64623': 1}\n"
     ]
    }
   ],
   "source": [
    "f=open(\"set_data2.csv\",\"r\")\n",
    "next(f)\n",
    "next(f)\n",
    "ports={}\n",
    "services={}\n",
    "for l in f:\n",
    "    row=l.split(\",\")\n",
    "    if row[6] not in services:\n",
    "        services[row[6]]=1\n",
    "    else:\n",
    "        services[row[6]]+=1\n",
    "    if row[1] not in ports:\n",
    "        ports[row[1]]=1\n",
    "    else:\n",
    "        ports[row[1]]+=1\n",
    "f.close()\n",
    "print(services)\n",
    "print(ports)"
   ]
  },
  {
   "cell_type": "code",
   "execution_count": 10,
   "metadata": {},
   "outputs": [
    {
     "name": "stdout",
     "output_type": "stream",
     "text": [
      "{'compressnet 3': 1, 'finger 79': 1, 'icad-el 425': 1, 'asipregistry 687': 1, 'unknown 1011': 1, 'asprovatalk 1079': 1, 'rmiactivation 1098': 1, 'dmidi 1199': 1, 'writesrv 1334': 1, 'glogger 2033': 1, 'dlsrpn 2065': 1, 'unknown 3546': 1, 'lanrevserver 3971': 1, 'mapper-ws_ethd 3986': 1, 'nrpe 5666': 1, 'unknown 5815': 1, 'cm 5910': 1, 'unknown 8291': 1, 'asterix 8600': 1, 'unknown 9220': 1, 'git 9418': 1, 'unknown 9666': 1, 'iiimsf 50002': 1, 'http 5357': 10, 'tcpwrapped 80': 5, 'tcpwrapped 139': 18, 'tcpwrapped 445': 17, 'tcpwrapped 49160': 1, 'tcpwrapped 135': 16, 'tcpwrapped 5357': 11, 'tcpwrapped 8080': 3, 'tcpwrapped 62078': 3, 'upnp 49152': 3, 'microsoft-ds 445': 5, 'tcpwrapped 2869': 1, 'tcpwrapped 49152': 1, 'tcpwrapped 49153': 1, 'tcpwrapped 49154': 1, 'tcpwrapped 49155': 2, 'tcpwrapped 49156': 1, 'tcpwrapped 49157': 1, 'tcpwrapped 22': 3, 'ajp12 8007': 1, 'hadoop-namenode 8008': 1, 'ajp13 8009': 1, 'dnp 20000': 1, 'tcpwrapped 554': 2, 'smtp 25': 3, 'http 80': 4, 'pop3 110': 3, 'msrpc 135': 4, 'netbios-ssn 139': 4, 'http 443': 1, 'mysql 3306': 2, 'postgresql 5432': 2, 'http 8000': 1, 'msrpc 49152': 1, 'msrpc 49153': 1, 'msrpc 49154': 1, 'msrpc 49155': 1, 'unknown 49156': 1, 'unknown 49157': 1, 'unknown 49158': 1, 'msrpc 49159': 1, 'unknown 49176': 1, 'unknown 65000': 1, 'msrpc 1688': 2, 'ftp 21': 1, 'ssh 22': 1, 'telnet 23': 1, 'domain 53': 1, 'rpcbind 111': 1, 'ident 113': 1, 'imap 143': 1, 'smux 199': 1, 'fw1-secureremote 256': 1, 'https 443': 1, 'submission 587': 1, 'imaps 993': 1, 'NFS-or-IIS 1025': 1, 'h323q931 1720': 1, 'pptp 1723': 1, 'vnc 5900': 1, 'http-proxy 8080': 1, 'sun-answerbook 8888': 1, 'rsh-spx 222': 1, 'onmux 417': 1, 'exec 512': 1, 'startron 1057': 1, 'syscomlan 1065': 1, 'dproxy 1296': 1, 'dls-monitor 2048': 1, 'xmpp-bosh 5280': 1, 'dpm 5718': 1, 'scriptview 7741': 1, 'blp3 8292': 1, 'pichat 9009': 1, 'jetdirect 9103': 1, 'unknown 10024': 1, 'caerpc 42510': 1, 'unknown 50636': 1, 'dnsix 90': 1, 'pop3pw 106': 1, 'dc 2001': 1, 'tcpwrapped 3306': 1, 'tcpwrapped 1688': 1, 'tcpwrapped 5800': 1, 'tcpwrapped 5900': 2, 'tcpwrapped 9999': 1, 'tcpwrapped 6646': 2, 'unknown 4': 1, 'ekshell 545': 1, 'rootd 1094': 1, 'netview-aix-6 1666': 1, 'sdfunc 2046': 1, 'kx 2111': 1, 'listcrt-port-2 3914': 1, 'n1-fwp 4446': 1, 'vnc-http-1 5801': 1, 'https-alt 8443': 1, 'pds 9595': 1, 'unknown 10566': 1, 'unknown 19780': 1, 'unknown 64623': 1}\n"
     ]
    }
   ],
   "source": [
    "f=open(\"set_data2.csv\",\"r\")\n",
    "next(f)\n",
    "next(f)\n",
    "ports={}\n",
    "services={}\n",
    "for l in f:\n",
    "    row=l.split(\",\")\n",
    "    if str(row[6]+\" \"+row[1]) not in services :\n",
    "        services[str(row[6]+\" \"+row[1])]=1\n",
    "    else:\n",
    "        services[str(row[6]+\" \"+row[1])]+=1\n",
    "    \n",
    "f.close()\n",
    "print(services)"
   ]
  },
  {
   "cell_type": "code",
   "execution_count": 13,
   "metadata": {},
   "outputs": [
    {
     "name": "stdout",
     "output_type": "stream",
     "text": [
      "[('NFS-or-IIS', [1, ['1025']]), ('ajp12', [1, ['8007']]), ('ajp13', [1, ['8009']]), ('asipregistry', [1, ['687']]), ('asprovatalk', [1, ['1079']]), ('asterix', [1, ['8600']]), ('blp3', [1, ['8292']]), ('caerpc', [1, ['42510']]), ('cm', [1, ['5910']]), ('compressnet', [1, ['3']]), ('dc', [1, ['2001']]), ('dls-monitor', [1, ['2048']]), ('dlsrpn', [1, ['2065']]), ('dmidi', [1, ['1199']]), ('dnp', [1, ['20000']]), ('dnsix', [1, ['90']]), ('domain', [1, ['53']]), ('dpm', [1, ['5718']]), ('dproxy', [1, ['1296']]), ('ekshell', [1, ['545']]), ('exec', [1, ['512']]), ('finger', [1, ['79']]), ('ftp', [1, ['21']]), ('fw1-secureremote', [1, ['256']]), ('git', [1, ['9418']]), ('glogger', [1, ['2033']]), ('h323q931', [1, ['1720']]), ('hadoop-namenode', [1, ['8008']]), ('http', [16, ['5357', '5357', '5357', '5357', '5357', '5357', '80', '443', '5357', '8000', '5357', '80', '5357', '5357', '80', '80']]), ('http-proxy', [1, ['8080']]), ('https', [1, ['443']]), ('https-alt', [1, ['8443']]), ('icad-el', [1, ['425']]), ('ident', [1, ['113']]), ('iiimsf', [1, ['50002']]), ('imap', [1, ['143']]), ('imaps', [1, ['993']]), ('jetdirect', [1, ['9103']]), ('kx', [1, ['2111']]), ('lanrevserver', [1, ['3971']]), ('listcrt-port-2', [1, ['3914']]), ('mapper-ws_ethd', [1, ['3986']]), ('microsoft-ds', [5, ['445', '445', '445', '445', '445']]), ('msrpc', [11, ['135', '49152', '49153', '49154', '49155', '49159', '135', '1688', '1688', '135', '135']]), ('mysql', [2, ['3306', '3306']]), ('n1-fwp', [1, ['4446']]), ('netbios-ssn', [4, ['139', '139', '139', '139']]), ('netview-aix-6', [1, ['1666']]), ('nrpe', [1, ['5666']]), ('onmux', [1, ['417']]), ('pds', [1, ['9595']]), ('pichat', [1, ['9009']]), ('pop3', [3, ['110', '110', '110']]), ('pop3pw', [1, ['106']]), ('postgresql', [2, ['5432', '5432']]), ('pptp', [1, ['1723']]), ('rmiactivation', [1, ['1098']]), ('rootd', [1, ['1094']]), ('rpcbind', [1, ['111']]), ('rsh-spx', [1, ['222']]), ('scriptview', [1, ['7741']]), ('sdfunc', [1, ['2046']]), ('smtp', [3, ['25', '25', '25']]), ('smux', [1, ['199']]), ('ssh', [1, ['22']]), ('startron', [1, ['1057']]), ('submission', [1, ['587']]), ('sun-answerbook', [1, ['8888']]), ('syscomlan', [1, ['1065']]), ('tcpwrapped', [95, ['80', '139', '445', '49160', '135', '139', '445', '5357', '135', '139', '445', '8080', '62078', '135', '135', '139', '445', '135', '139', '2869', '5357', '49152', '49153', '49154', '49155', '49156', '49157', '62078', '5357', '135', '139', '445', '5357', '80', '8080', '22', '135', '139', '445', '135', '139', '445', '5357', '49155', '135', '139', '445', '554', '135', '139', '445', '554', '5357', '22', '80', '139', '445', '22', '80', '139', '445', '80', '8080', '135', '139', '445', '3306', '1688', '5357', '135', '139', '445', '5357', '5800', '5900', '135', '139', '445', '5357', '5900', '135', '139', '445', '9999', '6646', '135', '139', '445', '5357', '6646', '62078', '135', '139', '445', '5357']]), ('telnet', [1, ['23']]), ('unknown', [17, ['1011', '3546', '5815', '8291', '9220', '9666', '49156', '49157', '49158', '49176', '65000', '10024', '50636', '4', '10566', '19780', '64623']]), ('upnp', [3, ['49152', '49152', '49152']]), ('vnc', [1, ['5900']]), ('vnc-http-1', [1, ['5801']]), ('writesrv', [1, ['1334']]), ('xmpp-bosh', [1, ['5280']])]\n"
     ]
    }
   ],
   "source": [
    "import operator\n",
    "f=open(\"set_data2.csv\",\"r\")\n",
    "next(f)\n",
    "next(f)\n",
    "ports={}\n",
    "services={}\n",
    "for l in f:\n",
    "    row=l.split(\",\")\n",
    "    if str(row[6]) not in services :\n",
    "        services[str(row[6])]=[1,[]]\n",
    "        services[str(row[6])][1].append(row[1])\n",
    "    else:\n",
    "        services[str(row[6])][0]+=1\n",
    "        services[str(row[6])][1].append(row[1])\n",
    "services=sorted(services.items(), key=operator.itemgetter(0))    \n",
    "f.close()\n",
    "print(services)"
   ]
  },
  {
   "cell_type": "code",
   "execution_count": null,
   "metadata": {
    "collapsed": true
   },
   "outputs": [],
   "source": []
  }
 ],
 "metadata": {
  "kernelspec": {
   "display_name": "Python 3",
   "language": "python",
   "name": "python3"
  },
  "language_info": {
   "codemirror_mode": {
    "name": "ipython",
    "version": 3
   },
   "file_extension": ".py",
   "mimetype": "text/x-python",
   "name": "python",
   "nbconvert_exporter": "python",
   "pygments_lexer": "ipython3",
   "version": "3.6.2"
  }
 },
 "nbformat": 4,
 "nbformat_minor": 2
}
